{
 "cells": [
  {
   "cell_type": "markdown",
   "metadata": {
    "toc": true
   },
   "source": [
    "<h1>Table of Contents<span class=\"tocSkip\"></span></h1>\n",
    "<div class=\"toc\"><ul class=\"toc-item\"><li><span><a href=\"#Importing-packages\" data-toc-modified-id=\"Importing-packages-1\"><span class=\"toc-item-num\">1&nbsp;&nbsp;</span>Importing packages</a></span></li><li><span><a href=\"#Loading-data\" data-toc-modified-id=\"Loading-data-2\"><span class=\"toc-item-num\">2&nbsp;&nbsp;</span>Loading data</a></span></li></ul></div>"
   ]
  },
  {
   "cell_type": "markdown",
   "metadata": {},
   "source": [
    "#### Importing packages"
   ]
  },
  {
   "cell_type": "code",
   "execution_count": 6,
   "metadata": {},
   "outputs": [],
   "source": [
    "import pandas as pd"
   ]
  },
  {
   "cell_type": "markdown",
   "metadata": {},
   "source": [
    "#### Loading data"
   ]
  },
  {
   "cell_type": "code",
   "execution_count": 7,
   "metadata": {},
   "outputs": [],
   "source": [
    "titanic_pd = pd.read_csv(\"sample_datasets/titanic.csv\")\n",
    "titanic_pd.head(2)\n",
    "\n",
    "for col in titanic_pd.columns:\n",
    "    titanic_pd[\"{}_1\".format(col)] = np.random.randint(5,30,size=(titanic_pd.shape[0]))"
   ]
  },
  {
   "cell_type": "code",
   "execution_count": null,
   "metadata": {},
   "outputs": [],
   "source": []
  },
  {
   "cell_type": "code",
   "execution_count": 15,
   "metadata": {},
   "outputs": [],
   "source": [
    "from associations import associations\n",
    "\n",
    "import warnings\n",
    "warnings.filterwarnings('ignore')"
   ]
  },
  {
   "cell_type": "code",
   "execution_count": 16,
   "metadata": {
    "scrolled": true
   },
   "outputs": [],
   "source": [
    "assn_class = associations(titanic_pd)\n",
    "assn_df = assn_class.get_association_table()"
   ]
  },
  {
   "cell_type": "code",
   "execution_count": 17,
   "metadata": {},
   "outputs": [
    {
     "data": {
      "text/html": [
       "<div>\n",
       "<style scoped>\n",
       "    .dataframe tbody tr th:only-of-type {\n",
       "        vertical-align: middle;\n",
       "    }\n",
       "\n",
       "    .dataframe tbody tr th {\n",
       "        vertical-align: top;\n",
       "    }\n",
       "\n",
       "    .dataframe thead th {\n",
       "        text-align: right;\n",
       "    }\n",
       "</style>\n",
       "<table border=\"1\" class=\"dataframe\">\n",
       "  <thead>\n",
       "    <tr style=\"text-align: right;\">\n",
       "      <th></th>\n",
       "      <th>col_a</th>\n",
       "      <th>association</th>\n",
       "      <th>col_b</th>\n",
       "      <th>type_</th>\n",
       "      <th>metric</th>\n",
       "    </tr>\n",
       "  </thead>\n",
       "  <tbody>\n",
       "    <tr>\n",
       "      <th>0</th>\n",
       "      <td>Fare</td>\n",
       "      <td>0.90</td>\n",
       "      <td>Pclass</td>\n",
       "      <td>NUM-CAT</td>\n",
       "      <td>pps</td>\n",
       "    </tr>\n",
       "    <tr>\n",
       "      <th>1</th>\n",
       "      <td>Pclass</td>\n",
       "      <td>0.90</td>\n",
       "      <td>Fare</td>\n",
       "      <td>CAT-NUM</td>\n",
       "      <td>mic</td>\n",
       "    </tr>\n",
       "    <tr>\n",
       "      <th>2</th>\n",
       "      <td>Fare</td>\n",
       "      <td>0.90</td>\n",
       "      <td>Pclass</td>\n",
       "      <td>NUM-CAT</td>\n",
       "      <td>mic</td>\n",
       "    </tr>\n",
       "    <tr>\n",
       "      <th>3</th>\n",
       "      <td>Cabin</td>\n",
       "      <td>0.75</td>\n",
       "      <td>Pclass</td>\n",
       "      <td>TEXT-CAT</td>\n",
       "      <td>pps</td>\n",
       "    </tr>\n",
       "    <tr>\n",
       "      <th>4</th>\n",
       "      <td>Fare</td>\n",
       "      <td>0.74</td>\n",
       "      <td>Embarked</td>\n",
       "      <td>NUM-CAT</td>\n",
       "      <td>pps</td>\n",
       "    </tr>\n",
       "  </tbody>\n",
       "</table>\n",
       "</div>"
      ],
      "text/plain": [
       "    col_a  association     col_b     type_ metric\n",
       "0    Fare         0.90    Pclass   NUM-CAT    pps\n",
       "1  Pclass         0.90      Fare   CAT-NUM    mic\n",
       "2    Fare         0.90    Pclass   NUM-CAT    mic\n",
       "3   Cabin         0.75    Pclass  TEXT-CAT    pps\n",
       "4    Fare         0.74  Embarked   NUM-CAT    pps"
      ]
     },
     "execution_count": 17,
     "metadata": {},
     "output_type": "execute_result"
    }
   ],
   "source": [
    "assn_df.head(5)"
   ]
  },
  {
   "cell_type": "code",
   "execution_count": null,
   "metadata": {},
   "outputs": [],
   "source": []
  },
  {
   "cell_type": "code",
   "execution_count": 18,
   "metadata": {},
   "outputs": [
    {
     "data": {
      "text/html": [
       "<style  type=\"text/css\" >\n",
       "    #T_eeb6d7c8_790d_11eb_95b3_f218980e9127 caption {\n",
       "          text-align: center;\n",
       "          font-size: 120%;\n",
       "          color: Red;\n",
       "          font-weight: bold;\n",
       "          border: 1px solid lightgrey;\n",
       "    }    #T_eeb6d7c8_790d_11eb_95b3_f218980e9127 th {\n",
       "          text-align: center;\n",
       "    }#T_eeb6d7c8_790d_11eb_95b3_f218980e9127row0_col1{\n",
       "            width:  10em;\n",
       "             height:  80%;\n",
       "            background:  linear-gradient(90deg, transparent 50.0%, #5fba7d 50.0%, #5fba7d 79.5%, transparent 79.5%);\n",
       "        }#T_eeb6d7c8_790d_11eb_95b3_f218980e9127row1_col1{\n",
       "            width:  10em;\n",
       "             height:  80%;\n",
       "            background:  linear-gradient(90deg, transparent 50.0%, #5fba7d 50.0%, #5fba7d 68.5%, transparent 68.5%);\n",
       "        }#T_eeb6d7c8_790d_11eb_95b3_f218980e9127row2_col1{\n",
       "            width:  10em;\n",
       "             height:  80%;\n",
       "            background:  linear-gradient(90deg, transparent 50.0%, #5fba7d 50.0%, #5fba7d 55.0%, transparent 55.0%);\n",
       "        }#T_eeb6d7c8_790d_11eb_95b3_f218980e9127row3_col1{\n",
       "            width:  10em;\n",
       "             height:  80%;\n",
       "            background:  linear-gradient(90deg, transparent 50.0%, #5fba7d 50.0%, #5fba7d 53.5%, transparent 53.5%);\n",
       "        }#T_eeb6d7c8_790d_11eb_95b3_f218980e9127row4_col1{\n",
       "            width:  10em;\n",
       "             height:  80%;\n",
       "            background:  linear-gradient(90deg, transparent 50.0%, #5fba7d 50.0%, #5fba7d 53.0%, transparent 53.0%);\n",
       "        }</style><table id=\"T_eeb6d7c8_790d_11eb_95b3_f218980e9127\" style='display:inline'><caption>Numerial Association</caption><thead>    <tr>        <th class=\"blank level0\" ></th>        <th class=\"col_heading level0 col0\" >Variable</th>        <th class=\"col_heading level0 col1\" >association</th>    </tr></thead><tbody>\n",
       "                <tr>\n",
       "                        <th id=\"T_eeb6d7c8_790d_11eb_95b3_f218980e9127level0_row0\" class=\"row_heading level0 row0\" >0</th>\n",
       "                        <td id=\"T_eeb6d7c8_790d_11eb_95b3_f218980e9127row0_col0\" class=\"data row0 col0\" >Fare</td>\n",
       "                        <td id=\"T_eeb6d7c8_790d_11eb_95b3_f218980e9127row0_col1\" class=\"data row0 col1\" >0.59</td>\n",
       "            </tr>\n",
       "            <tr>\n",
       "                        <th id=\"T_eeb6d7c8_790d_11eb_95b3_f218980e9127level0_row1\" class=\"row_heading level0 row1\" >1</th>\n",
       "                        <td id=\"T_eeb6d7c8_790d_11eb_95b3_f218980e9127row1_col0\" class=\"data row1 col0\" >Age</td>\n",
       "                        <td id=\"T_eeb6d7c8_790d_11eb_95b3_f218980e9127row1_col1\" class=\"data row1 col1\" >0.37</td>\n",
       "            </tr>\n",
       "            <tr>\n",
       "                        <th id=\"T_eeb6d7c8_790d_11eb_95b3_f218980e9127level0_row2\" class=\"row_heading level0 row2\" >2</th>\n",
       "                        <td id=\"T_eeb6d7c8_790d_11eb_95b3_f218980e9127row2_col0\" class=\"data row2 col0\" >Age_1</td>\n",
       "                        <td id=\"T_eeb6d7c8_790d_11eb_95b3_f218980e9127row2_col1\" class=\"data row2 col1\" >0.10</td>\n",
       "            </tr>\n",
       "            <tr>\n",
       "                        <th id=\"T_eeb6d7c8_790d_11eb_95b3_f218980e9127level0_row3\" class=\"row_heading level0 row3\" >3</th>\n",
       "                        <td id=\"T_eeb6d7c8_790d_11eb_95b3_f218980e9127row3_col0\" class=\"data row3 col0\" >Cabin_1</td>\n",
       "                        <td id=\"T_eeb6d7c8_790d_11eb_95b3_f218980e9127row3_col1\" class=\"data row3 col1\" >0.07</td>\n",
       "            </tr>\n",
       "            <tr>\n",
       "                        <th id=\"T_eeb6d7c8_790d_11eb_95b3_f218980e9127level0_row4\" class=\"row_heading level0 row4\" >4</th>\n",
       "                        <td id=\"T_eeb6d7c8_790d_11eb_95b3_f218980e9127row4_col0\" class=\"data row4 col0\" >Fare_1</td>\n",
       "                        <td id=\"T_eeb6d7c8_790d_11eb_95b3_f218980e9127row4_col1\" class=\"data row4 col1\" >0.06</td>\n",
       "            </tr>\n",
       "    </tbody></table>   <style  type=\"text/css\" >\n",
       "    #T_eeb78068_790d_11eb_8045_f218980e9127 caption {\n",
       "          text-align: center;\n",
       "          font-size: 120%;\n",
       "          color: Red;\n",
       "          font-weight: bold;\n",
       "          border: 1px solid lightgrey;\n",
       "    }    #T_eeb78068_790d_11eb_8045_f218980e9127 th {\n",
       "          text-align: center;\n",
       "    }#T_eeb78068_790d_11eb_8045_f218980e9127row0_col1{\n",
       "            width:  10em;\n",
       "             height:  80%;\n",
       "            background:  linear-gradient(90deg, transparent 50.0%, #5fba7d 50.0%, #5fba7d 55.0%, transparent 55.0%);\n",
       "        }#T_eeb78068_790d_11eb_8045_f218980e9127row1_col1{\n",
       "            width:  10em;\n",
       "             height:  80%;\n",
       "            background:  linear-gradient(90deg, transparent 50.0%, #5fba7d 50.0%, #5fba7d 54.5%, transparent 54.5%);\n",
       "        }#T_eeb78068_790d_11eb_8045_f218980e9127row2_col1{\n",
       "            width:  10em;\n",
       "             height:  80%;\n",
       "            background:  linear-gradient(90deg, transparent 50.0%, #5fba7d 50.0%, #5fba7d 52.0%, transparent 52.0%);\n",
       "        }#T_eeb78068_790d_11eb_8045_f218980e9127row3_col1,#T_eeb78068_790d_11eb_8045_f218980e9127row4_col1{\n",
       "            width:  10em;\n",
       "             height:  80%;\n",
       "            background:  linear-gradient(90deg, transparent 50.0%, #5fba7d 50.0%, #5fba7d 50.5%, transparent 50.5%);\n",
       "        }</style><table id=\"T_eeb78068_790d_11eb_8045_f218980e9127\" style='display:inline'><caption>Parent Association</caption><thead>    <tr>        <th class=\"blank level0\" ></th>        <th class=\"col_heading level0 col0\" >Variable</th>        <th class=\"col_heading level0 col1\" >association</th>    </tr></thead><tbody>\n",
       "                <tr>\n",
       "                        <th id=\"T_eeb78068_790d_11eb_8045_f218980e9127level0_row0\" class=\"row_heading level0 row0\" >0</th>\n",
       "                        <td id=\"T_eeb78068_790d_11eb_8045_f218980e9127row0_col0\" class=\"data row0 col0\" >Embarked</td>\n",
       "                        <td id=\"T_eeb78068_790d_11eb_8045_f218980e9127row0_col1\" class=\"data row0 col1\" >0.10</td>\n",
       "            </tr>\n",
       "            <tr>\n",
       "                        <th id=\"T_eeb78068_790d_11eb_8045_f218980e9127level0_row1\" class=\"row_heading level0 row1\" >1</th>\n",
       "                        <td id=\"T_eeb78068_790d_11eb_8045_f218980e9127row1_col0\" class=\"data row1 col0\" >Survived</td>\n",
       "                        <td id=\"T_eeb78068_790d_11eb_8045_f218980e9127row1_col1\" class=\"data row1 col1\" >0.09</td>\n",
       "            </tr>\n",
       "            <tr>\n",
       "                        <th id=\"T_eeb78068_790d_11eb_8045_f218980e9127level0_row2\" class=\"row_heading level0 row2\" >2</th>\n",
       "                        <td id=\"T_eeb78068_790d_11eb_8045_f218980e9127row2_col0\" class=\"data row2 col0\" >SibSp</td>\n",
       "                        <td id=\"T_eeb78068_790d_11eb_8045_f218980e9127row2_col1\" class=\"data row2 col1\" >0.04</td>\n",
       "            </tr>\n",
       "            <tr>\n",
       "                        <th id=\"T_eeb78068_790d_11eb_8045_f218980e9127level0_row3\" class=\"row_heading level0 row3\" >3</th>\n",
       "                        <td id=\"T_eeb78068_790d_11eb_8045_f218980e9127row3_col0\" class=\"data row3 col0\" >Parch</td>\n",
       "                        <td id=\"T_eeb78068_790d_11eb_8045_f218980e9127row3_col1\" class=\"data row3 col1\" >0.01</td>\n",
       "            </tr>\n",
       "            <tr>\n",
       "                        <th id=\"T_eeb78068_790d_11eb_8045_f218980e9127level0_row4\" class=\"row_heading level0 row4\" >4</th>\n",
       "                        <td id=\"T_eeb78068_790d_11eb_8045_f218980e9127row4_col0\" class=\"data row4 col0\" >Sex</td>\n",
       "                        <td id=\"T_eeb78068_790d_11eb_8045_f218980e9127row4_col1\" class=\"data row4 col1\" >0.01</td>\n",
       "            </tr>\n",
       "    </tbody></table>   <style  type=\"text/css\" >\n",
       "    #T_eeb82b82_790d_11eb_b71c_f218980e9127 caption {\n",
       "          text-align: center;\n",
       "          font-size: 120%;\n",
       "          color: Red;\n",
       "          font-weight: bold;\n",
       "          border: 1px solid lightgrey;\n",
       "    }    #T_eeb82b82_790d_11eb_b71c_f218980e9127 th {\n",
       "          text-align: center;\n",
       "    }#T_eeb82b82_790d_11eb_b71c_f218980e9127row0_col1{\n",
       "            width:  10em;\n",
       "             height:  80%;\n",
       "            background:  linear-gradient(90deg, transparent 50.0%, #5fba7d 50.0%, #5fba7d 53.5%, transparent 53.5%);\n",
       "        }#T_eeb82b82_790d_11eb_b71c_f218980e9127row1_col1{\n",
       "            width:  10em;\n",
       "             height:  80%;\n",
       "            background:  linear-gradient(90deg, transparent 50.0%, #5fba7d 50.0%, #5fba7d 53.0%, transparent 53.0%);\n",
       "        }#T_eeb82b82_790d_11eb_b71c_f218980e9127row2_col1{\n",
       "            width:  10em;\n",
       "             height:  80%;\n",
       "            background:  linear-gradient(90deg, transparent 50.0%, #5fba7d 50.0%, #5fba7d 52.0%, transparent 52.0%);\n",
       "        }#T_eeb82b82_790d_11eb_b71c_f218980e9127row3_col1,#T_eeb82b82_790d_11eb_b71c_f218980e9127row4_col1{\n",
       "            width:  10em;\n",
       "             height:  80%;\n",
       "            background:  linear-gradient(90deg, transparent 50.0%, #5fba7d 50.0%, #5fba7d 50.5%, transparent 50.5%);\n",
       "        }</style><table id=\"T_eeb82b82_790d_11eb_b71c_f218980e9127\" style='display:inline'><caption>Child Association</caption><thead>    <tr>        <th class=\"blank level0\" ></th>        <th class=\"col_heading level0 col0\" >Variable</th>        <th class=\"col_heading level0 col1\" >association</th>    </tr></thead><tbody>\n",
       "                <tr>\n",
       "                        <th id=\"T_eeb82b82_790d_11eb_b71c_f218980e9127level0_row0\" class=\"row_heading level0 row0\" >0</th>\n",
       "                        <td id=\"T_eeb82b82_790d_11eb_b71c_f218980e9127row0_col0\" class=\"data row0 col0\" >Embarked</td>\n",
       "                        <td id=\"T_eeb82b82_790d_11eb_b71c_f218980e9127row0_col1\" class=\"data row0 col1\" >0.07</td>\n",
       "            </tr>\n",
       "            <tr>\n",
       "                        <th id=\"T_eeb82b82_790d_11eb_b71c_f218980e9127level0_row1\" class=\"row_heading level0 row1\" >1</th>\n",
       "                        <td id=\"T_eeb82b82_790d_11eb_b71c_f218980e9127row1_col0\" class=\"data row1 col0\" >Survived</td>\n",
       "                        <td id=\"T_eeb82b82_790d_11eb_b71c_f218980e9127row1_col1\" class=\"data row1 col1\" >0.06</td>\n",
       "            </tr>\n",
       "            <tr>\n",
       "                        <th id=\"T_eeb82b82_790d_11eb_b71c_f218980e9127level0_row2\" class=\"row_heading level0 row2\" >2</th>\n",
       "                        <td id=\"T_eeb82b82_790d_11eb_b71c_f218980e9127row2_col0\" class=\"data row2 col0\" >SibSp</td>\n",
       "                        <td id=\"T_eeb82b82_790d_11eb_b71c_f218980e9127row2_col1\" class=\"data row2 col1\" >0.04</td>\n",
       "            </tr>\n",
       "            <tr>\n",
       "                        <th id=\"T_eeb82b82_790d_11eb_b71c_f218980e9127level0_row3\" class=\"row_heading level0 row3\" >3</th>\n",
       "                        <td id=\"T_eeb82b82_790d_11eb_b71c_f218980e9127row3_col0\" class=\"data row3 col0\" >Parch</td>\n",
       "                        <td id=\"T_eeb82b82_790d_11eb_b71c_f218980e9127row3_col1\" class=\"data row3 col1\" >0.01</td>\n",
       "            </tr>\n",
       "            <tr>\n",
       "                        <th id=\"T_eeb82b82_790d_11eb_b71c_f218980e9127level0_row4\" class=\"row_heading level0 row4\" >4</th>\n",
       "                        <td id=\"T_eeb82b82_790d_11eb_b71c_f218980e9127row4_col0\" class=\"data row4 col0\" >Sex</td>\n",
       "                        <td id=\"T_eeb82b82_790d_11eb_b71c_f218980e9127row4_col1\" class=\"data row4 col1\" >0.01</td>\n",
       "            </tr>\n",
       "    </tbody></table>   "
      ],
      "text/plain": [
       "<IPython.core.display.HTML object>"
      ]
     },
     "metadata": {},
     "output_type": "display_data"
    }
   ],
   "source": [
    "assn_class.get_variable_association(\"Pclass\")"
   ]
  },
  {
   "cell_type": "code",
   "execution_count": 19,
   "metadata": {},
   "outputs": [],
   "source": [
    "# assn_class.get_variable_association(\"Age\")"
   ]
  },
  {
   "cell_type": "code",
   "execution_count": 20,
   "metadata": {},
   "outputs": [
    {
     "data": {
      "application/vnd.jupyter.widget-view+json": {
       "model_id": "af78e7b267c148428deaa1e8fbc2a398",
       "version_major": 2,
       "version_minor": 0
      },
      "text/plain": [
       "interactive(children=(FloatSlider(value=0.0, description='Min. Association:', layout=Layout(border='1px solid …"
      ]
     },
     "metadata": {},
     "output_type": "display_data"
    }
   ],
   "source": [
    "assn_class.heatmap_plot()"
   ]
  },
  {
   "cell_type": "code",
   "execution_count": 22,
   "metadata": {},
   "outputs": [
    {
     "data": {
      "application/vnd.jupyter.widget-view+json": {
       "model_id": "6e618b42e7a44f5c8134ff1e5fe64a3c",
       "version_major": 2,
       "version_minor": 0
      },
      "text/plain": [
       "HBox(children=(VBox(children=(FloatSlider(value=0.05, description='Min. Association:', layout=Layout(border='1…"
      ]
     },
     "metadata": {},
     "output_type": "display_data"
    },
    {
     "data": {
      "application/vnd.jupyter.widget-view+json": {
       "model_id": "99e8e6d54e1348fe90af0185ffcdfa5e",
       "version_major": 2,
       "version_minor": 0
      },
      "text/plain": [
       "Output()"
      ]
     },
     "metadata": {},
     "output_type": "display_data"
    }
   ],
   "source": [
    "assn_class.network_plot(size_edge=100, size_node=2000, size_label=10)"
   ]
  },
  {
   "cell_type": "code",
   "execution_count": null,
   "metadata": {},
   "outputs": [],
   "source": []
  },
  {
   "cell_type": "code",
   "execution_count": null,
   "metadata": {},
   "outputs": [],
   "source": []
  },
  {
   "cell_type": "code",
   "execution_count": null,
   "metadata": {},
   "outputs": [],
   "source": [
    "#no"
   ]
  }
 ],
 "metadata": {
  "kernelspec": {
   "display_name": "Python 3",
   "language": "python",
   "name": "python3"
  },
  "language_info": {
   "codemirror_mode": {
    "name": "ipython",
    "version": 3
   },
   "file_extension": ".py",
   "mimetype": "text/x-python",
   "name": "python",
   "nbconvert_exporter": "python",
   "pygments_lexer": "ipython3",
   "version": "3.6.9"
  },
  "toc": {
   "base_numbering": 1,
   "nav_menu": {},
   "number_sections": true,
   "sideBar": true,
   "skip_h1_title": true,
   "title_cell": "Table of Contents",
   "title_sidebar": "Contents",
   "toc_cell": true,
   "toc_position": {},
   "toc_section_display": true,
   "toc_window_display": false
  },
  "varInspector": {
   "cols": {
    "lenName": 16,
    "lenType": 16,
    "lenVar": 40
   },
   "kernels_config": {
    "python": {
     "delete_cmd_postfix": "",
     "delete_cmd_prefix": "del ",
     "library": "var_list.py",
     "varRefreshCmd": "print(var_dic_list())"
    },
    "r": {
     "delete_cmd_postfix": ") ",
     "delete_cmd_prefix": "rm(",
     "library": "var_list.r",
     "varRefreshCmd": "cat(var_dic_list()) "
    }
   },
   "types_to_exclude": [
    "module",
    "function",
    "builtin_function_or_method",
    "instance",
    "_Feature"
   ],
   "window_display": false
  }
 },
 "nbformat": 4,
 "nbformat_minor": 4
}
